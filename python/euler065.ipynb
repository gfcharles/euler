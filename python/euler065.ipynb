{
 "cells": [
  {
   "cell_type": "markdown",
   "metadata": {},
   "source": [
    "Consider quadratic Diophantine equations of the form:<br>\n",
    "</br>\n",
    "\n",
    "\n",
    "$ x^{2} - Dy^{2} = 1 $\n",
    "\n",
    "For example, when $ D = 13 $, the minimal solution in $ x $ is $ 649^{2} - 13 \\times 180^{2} = 1 $.\n",
    "\n",
    "It can be assumed that there are no solutions in positive integers when $D$ is square.\n",
    "\n",
    "By finding minimal solutions in $x$ for $D = \\{2, 3, 5, 6, 7\\}$, we obtain the following:<br>\n",
    "\n",
    "$\\begin{align}\n",
    "3^2 - 2 \\times 2^2 &= 1\\\\\n",
    "2^2 - 3 \\times 1^2 &= 1\\\\\n",
    "{\\color{red}{\\mathbf 9}}^2 - 5 \\times 4^2 &= 1\\\\\n",
    "5^2 - 6 \\times 2^2 &= 1\\\\\n",
    "8^2 - 7 \\times 3^2 &= 1\n",
    "\\end{align}$\n",
    "\n",
    "Hence, by considering minimal solutions in $x$ for $D \\le 7$, the largest $x$ is obtained when $D=5$.\n",
    "\n",
    "Find the value of $D \\le 1000$ in minimal solutions of $x$ for which the largest value of $x$ is obtained."
   ]
  },
  {
   "cell_type": "code",
   "execution_count": null,
   "metadata": {},
   "outputs": [],
   "source": []
  },
  {
   "cell_type": "code",
   "execution_count": null,
   "metadata": {},
   "outputs": [],
   "source": []
  },
  {
   "cell_type": "code",
   "execution_count": null,
   "metadata": {},
   "outputs": [],
   "source": []
  }
 ],
 "metadata": {
  "kernelspec": {
   "display_name": "Python 3 (ipykernel)",
   "language": "python",
   "name": "python3"
  },
  "language_info": {
   "codemirror_mode": {
    "name": "ipython",
    "version": 3
   },
   "file_extension": ".py",
   "mimetype": "text/x-python",
   "name": "python",
   "nbconvert_exporter": "python",
   "pygments_lexer": "ipython3",
   "version": "3.11.3"
  }
 },
 "nbformat": 4,
 "nbformat_minor": 1
}
