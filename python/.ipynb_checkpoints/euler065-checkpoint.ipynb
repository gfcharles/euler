{
 "cells": [
  {
   "cell_type": "markdown",
   "metadata": {},
   "source": [
    "Consider quadratic Diophantine equations of the form:<br>\n",
    "</br>\n",
    "\n",
    "\n",
    "$ x^{2} - Dy^{2} = 1 $\n",
    "\n",
    "For example, when $ D = 13 $, the minimal solution in $ x $ is $ 649^{2} - 13 \\times 180^{2} = 1 $.\n",
    "\n",
    "It can be assumed that there are no solutions in positive integers when $D$ is square.\n",
    "\n",
    "By finding minimal solutions in $x$ for $D = \\{2, 3, 5, 6, 7\\}$, we obtain the following:<br>\n",
    "$$\n",
    "3^2 - 2 \\times 2^2 &= 1\\\\\n",
    "2^2 - 3 \\times 1^2 &= 1\\\\\n",
    "{\\color{red}{\\mathbf 9}}^2 - 5 \\times 4^2 &= 1\\\\\n",
    "5^2 - 6 \\times 2^2 &= 1\\\\\n",
    "8^2 - 7 \\times 3^2 &= 1\n",
    "$$\n",
    "\n",
    "$$\n",
    "\\require{color}\n",
    "\\definecolor{energy}{RGB}{114,0,172}\n",
    "\\definecolor{freq}{RGB}{45,177,93}\n",
    "\\definecolor{spin}{RGB}{251,0,29}\n",
    "\\definecolor{signal}{RGB}{18,110,213}\n",
    "\\definecolor{circle}{RGB}{217,86,16}\n",
    "\\definecolor{average}{RGB}{203,23,206}\n",
    "\\color{energy} X_{\\color{freq} k} \\color{black} =\n",
    "\\color{average} \\frac{1}{N} \\sum_{n=0}^{N-1}\n",
    "\\color{signal}x_n \\color{spin}\n",
    "e^{\\mathrm{i} \\color{circle} 2\\pi \\color{freq}k\n",
    "\\color{average} \\frac{n}{N}}\n",
    "$$\n",
    "\n",
    "Hence, by considering minimal solutions in\n",
    " for\n",
    ", the largest\n",
    " is obtained when\n",
    ".\n",
    "\n",
    "Find the value of\n",
    " in minimal solutions of\n",
    " for which the largest value of\n",
    " is obtained."
   ]
  },
  {
   "cell_type": "code",
   "execution_count": null,
   "metadata": {},
   "outputs": [],
   "source": []
  }
 ],
 "metadata": {
  "kernelspec": {
   "display_name": "Python 3 (ipykernel)",
   "language": "python",
   "name": "python3"
  },
  "language_info": {
   "codemirror_mode": {
    "name": "ipython",
    "version": 3
   },
   "file_extension": ".py",
   "mimetype": "text/x-python",
   "name": "python",
   "nbconvert_exporter": "python",
   "pygments_lexer": "ipython3",
   "version": "3.11.3"
  }
 },
 "nbformat": 4,
 "nbformat_minor": 1
}
